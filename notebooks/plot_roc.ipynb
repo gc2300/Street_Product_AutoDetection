{
 "cells": [
  {
   "cell_type": "code",
   "execution_count": 10,
   "metadata": {},
   "outputs": [],
   "source": [
    "import pandas as pd\n",
    "\n",
    "data1 = pd.read_csv('testtrainval.txt', sep=\" \", header=None)\n",
    "\n",
    "data2 = pd.read_csv('testtrainval1.txt', sep=\" \", header=None)\n",
    "\n",
    "data = pd.merge(data1, data2)\n",
    "\n",
    "import numpy as np\n",
    "\n",
    "np.savetxt('np.txt', data.values, fmt='%s')"
   ]
  },
  {
   "cell_type": "code",
   "execution_count": 1,
   "metadata": {},
   "outputs": [],
   "source": [
    "import pandas as pd\n",
    "import numpy as np"
   ]
  },
  {
   "cell_type": "code",
   "execution_count": 2,
   "metadata": {},
   "outputs": [],
   "source": [
    "np.random.seed(999)"
   ]
  },
  {
   "cell_type": "code",
   "execution_count": 18,
   "metadata": {},
   "outputs": [],
   "source": [
    "import matplotlib.pyplot as plt"
   ]
  },
  {
   "cell_type": "code",
   "execution_count": 3,
   "metadata": {},
   "outputs": [
    {
     "name": "stdout",
     "output_type": "stream",
     "text": [
      "/Users/JHZ/Desktop/VOCdevkit2007\r\n"
     ]
    }
   ],
   "source": [
    "!pwd"
   ]
  },
  {
   "cell_type": "code",
   "execution_count": 21,
   "metadata": {},
   "outputs": [],
   "source": [
    "df1 = pd.read_csv('roc_curve.txt', sep=\" \")"
   ]
  },
  {
   "cell_type": "code",
   "execution_count": 5,
   "metadata": {},
   "outputs": [
    {
     "data": {
      "text/html": [
       "<div>\n",
       "<table border=\"1\" class=\"dataframe\">\n",
       "  <thead>\n",
       "    <tr style=\"text-align: right;\">\n",
       "      <th></th>\n",
       "      <th>threshold</th>\n",
       "      <th>tps</th>\n",
       "      <th>fps</th>\n",
       "      <th>nposes</th>\n",
       "      <th>mAP</th>\n",
       "    </tr>\n",
       "  </thead>\n",
       "  <tbody>\n",
       "    <tr>\n",
       "      <th>0</th>\n",
       "      <td>0.0</td>\n",
       "      <td>287</td>\n",
       "      <td>27720</td>\n",
       "      <td>372</td>\n",
       "      <td>0.6166</td>\n",
       "    </tr>\n",
       "    <tr>\n",
       "      <th>1</th>\n",
       "      <td>0.1</td>\n",
       "      <td>282</td>\n",
       "      <td>105</td>\n",
       "      <td>372</td>\n",
       "      <td>0.6096</td>\n",
       "    </tr>\n",
       "    <tr>\n",
       "      <th>2</th>\n",
       "      <td>0.3</td>\n",
       "      <td>279</td>\n",
       "      <td>71</td>\n",
       "      <td>372</td>\n",
       "      <td>0.6021</td>\n",
       "    </tr>\n",
       "    <tr>\n",
       "      <th>3</th>\n",
       "      <td>0.5</td>\n",
       "      <td>277</td>\n",
       "      <td>71</td>\n",
       "      <td>372</td>\n",
       "      <td>0.5968</td>\n",
       "    </tr>\n",
       "    <tr>\n",
       "      <th>4</th>\n",
       "      <td>0.7</td>\n",
       "      <td>275</td>\n",
       "      <td>71</td>\n",
       "      <td>372</td>\n",
       "      <td>0.5920</td>\n",
       "    </tr>\n",
       "    <tr>\n",
       "      <th>5</th>\n",
       "      <td>0.9</td>\n",
       "      <td>275</td>\n",
       "      <td>71</td>\n",
       "      <td>372</td>\n",
       "      <td>0.5920</td>\n",
       "    </tr>\n",
       "  </tbody>\n",
       "</table>\n",
       "</div>"
      ],
      "text/plain": [
       "   threshold  tps    fps  nposes     mAP\n",
       "0        0.0  287  27720     372  0.6166\n",
       "1        0.1  282    105     372  0.6096\n",
       "2        0.3  279     71     372  0.6021\n",
       "3        0.5  277     71     372  0.5968\n",
       "4        0.7  275     71     372  0.5920\n",
       "5        0.9  275     71     372  0.5920"
      ]
     },
     "execution_count": 5,
     "metadata": {},
     "output_type": "execute_result"
    }
   ],
   "source": [
    "df1"
   ]
  },
  {
   "cell_type": "code",
   "execution_count": 6,
   "metadata": {},
   "outputs": [
    {
     "data": {
      "text/plain": [
       "0    0.771505\n",
       "1    0.758065\n",
       "2    0.750000\n",
       "3    0.744624\n",
       "4    0.739247\n",
       "5    0.739247\n",
       "dtype: float64"
      ]
     },
     "execution_count": 6,
     "metadata": {},
     "output_type": "execute_result"
    }
   ],
   "source": [
    "df1.tps.astype(float)/ df1.nposes"
   ]
  },
  {
   "cell_type": "code",
   "execution_count": 7,
   "metadata": {},
   "outputs": [],
   "source": [
    "df1['tpr'] = df1.tps.astype(float)/ df1.nposes"
   ]
  },
  {
   "cell_type": "code",
   "execution_count": 8,
   "metadata": {},
   "outputs": [],
   "source": [
    "df1['pre'] = df1.tps.astype(float)/ (df1.tps + df1.fps)"
   ]
  },
  {
   "cell_type": "code",
   "execution_count": 9,
   "metadata": {},
   "outputs": [
    {
     "data": {
      "text/html": [
       "<div>\n",
       "<table border=\"1\" class=\"dataframe\">\n",
       "  <thead>\n",
       "    <tr style=\"text-align: right;\">\n",
       "      <th></th>\n",
       "      <th>threshold</th>\n",
       "      <th>tps</th>\n",
       "      <th>fps</th>\n",
       "      <th>nposes</th>\n",
       "      <th>mAP</th>\n",
       "      <th>tpr</th>\n",
       "      <th>pre</th>\n",
       "    </tr>\n",
       "  </thead>\n",
       "  <tbody>\n",
       "    <tr>\n",
       "      <th>0</th>\n",
       "      <td>0.0</td>\n",
       "      <td>287</td>\n",
       "      <td>27720</td>\n",
       "      <td>372</td>\n",
       "      <td>0.6166</td>\n",
       "      <td>0.771505</td>\n",
       "      <td>0.010247</td>\n",
       "    </tr>\n",
       "    <tr>\n",
       "      <th>1</th>\n",
       "      <td>0.1</td>\n",
       "      <td>282</td>\n",
       "      <td>105</td>\n",
       "      <td>372</td>\n",
       "      <td>0.6096</td>\n",
       "      <td>0.758065</td>\n",
       "      <td>0.728682</td>\n",
       "    </tr>\n",
       "    <tr>\n",
       "      <th>2</th>\n",
       "      <td>0.3</td>\n",
       "      <td>279</td>\n",
       "      <td>71</td>\n",
       "      <td>372</td>\n",
       "      <td>0.6021</td>\n",
       "      <td>0.750000</td>\n",
       "      <td>0.797143</td>\n",
       "    </tr>\n",
       "    <tr>\n",
       "      <th>3</th>\n",
       "      <td>0.5</td>\n",
       "      <td>277</td>\n",
       "      <td>71</td>\n",
       "      <td>372</td>\n",
       "      <td>0.5968</td>\n",
       "      <td>0.744624</td>\n",
       "      <td>0.795977</td>\n",
       "    </tr>\n",
       "    <tr>\n",
       "      <th>4</th>\n",
       "      <td>0.7</td>\n",
       "      <td>275</td>\n",
       "      <td>71</td>\n",
       "      <td>372</td>\n",
       "      <td>0.5920</td>\n",
       "      <td>0.739247</td>\n",
       "      <td>0.794798</td>\n",
       "    </tr>\n",
       "    <tr>\n",
       "      <th>5</th>\n",
       "      <td>0.9</td>\n",
       "      <td>275</td>\n",
       "      <td>71</td>\n",
       "      <td>372</td>\n",
       "      <td>0.5920</td>\n",
       "      <td>0.739247</td>\n",
       "      <td>0.794798</td>\n",
       "    </tr>\n",
       "  </tbody>\n",
       "</table>\n",
       "</div>"
      ],
      "text/plain": [
       "   threshold  tps    fps  nposes     mAP       tpr       pre\n",
       "0        0.0  287  27720     372  0.6166  0.771505  0.010247\n",
       "1        0.1  282    105     372  0.6096  0.758065  0.728682\n",
       "2        0.3  279     71     372  0.6021  0.750000  0.797143\n",
       "3        0.5  277     71     372  0.5968  0.744624  0.795977\n",
       "4        0.7  275     71     372  0.5920  0.739247  0.794798\n",
       "5        0.9  275     71     372  0.5920  0.739247  0.794798"
      ]
     },
     "execution_count": 9,
     "metadata": {},
     "output_type": "execute_result"
    }
   ],
   "source": [
    "df1"
   ]
  },
  {
   "cell_type": "code",
   "execution_count": 10,
   "metadata": {},
   "outputs": [],
   "source": [
    "legends = np.array(df1.threshold[1:])"
   ]
  },
  {
   "cell_type": "code",
   "execution_count": 11,
   "metadata": {},
   "outputs": [],
   "source": [
    "tpr = np.array(df1.tpr[1:])"
   ]
  },
  {
   "cell_type": "code",
   "execution_count": 12,
   "metadata": {},
   "outputs": [],
   "source": [
    "fps = np.array(df1.fps[1:])"
   ]
  },
  {
   "cell_type": "code",
   "execution_count": 13,
   "metadata": {},
   "outputs": [],
   "source": [
    "pres = np.array(df1.pre[1:])"
   ]
  },
  {
   "cell_type": "code",
   "execution_count": 20,
   "metadata": {},
   "outputs": [
    {
     "data": {
      "image/png": "[encoded data removed]",
      "text/plain": [
       "<Figure size 504x504 with 1 Axes>"
      ]
     },
     "metadata": {},
     "output_type": "display_data"
    }
   ],
   "source": [
    "fig = plt.figure(figsize=[7, 7])\n",
    "ax1 = fig.add_subplot(1,1,1)\n",
    "ax1.plot(fps, tpr)\n",
    "for i in xrange(0,5):\n",
    "    ax1.scatter(fps[i], tpr[i], label='probability ' + str(legends[i]), marker='x', s=80)\n",
    "#ax1.set_xlim(70,110)\n",
    "#ax1.set_ylim(0.73,0.76)\n",
    "ax1.set_xlabel('false positive rate', fontsize=14)\n",
    "ax1.set_ylabel('true positive rate', fontsize=14)\n",
    "ax1.set_title('ROC Curve for different detection probabilites', fontsize=18)\n",
    "plt.legend()\n",
    "plt.show()"
   ]
  }
 ],
 "metadata": {
  "kernelspec": {
   "display_name": "Python [conda root]",
   "language": "python",
   "name": "conda-root-py"
  },
  "language_info": {
   "codemirror_mode": {
    "name": "ipython",
    "version": 2
   },
   "file_extension": ".py",
   "mimetype": "text/x-python",
   "name": "python",
   "nbconvert_exporter": "python",
   "pygments_lexer": "ipython2",
   "version": "2.7.11"
  }
 },
 "nbformat": 4,
 "nbformat_minor": 2
}
