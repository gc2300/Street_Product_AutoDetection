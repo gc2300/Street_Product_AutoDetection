{
 "cells": [
  {
   "cell_type": "markdown",
   "metadata": {},
   "source": [
    "In this notebook, I will write a function that takes coordinates and returns Google Street View imagery for those locations\n",
    "\n",
    "*help from Street View Image API docs:* https://developers.google.com/maps/documentation/streetview/intro#url_parameters"
   ]
  },
  {
   "cell_type": "code",
   "execution_count": 1,
   "metadata": {
    "collapsed": true
   },
   "outputs": [],
   "source": [
    "import urllib\n",
    "import os\n",
    "\n",
    "# https://maps.googleapis.com/maps/api/streetview?size=600x300&location=46.414382,10.013988&heading=151.78&pitch=-0.76&key=YOUR_API_KEY\n"
   ]
  },
  {
   "cell_type": "code",
   "execution_count": 2,
   "metadata": {
    "collapsed": true
   },
   "outputs": [],
   "source": [
    "# replace with your own Google Street View API\n",
    "\n",
    "api_key = ''"
   ]
  },
  {
   "cell_type": "code",
   "execution_count": 3,
   "metadata": {
    "collapsed": true
   },
   "outputs": [],
   "source": [
    "# local storage for extracted images\n",
    "# os.path.join to link paths together\n",
    "\n",
    "myloc = r\"\" #replace with your own location\n",
    "key = \"&key=\" + api_key"
   ]
  },
  {
   "cell_type": "code",
   "execution_count": 4,
   "metadata": {
    "collapsed": true
   },
   "outputs": [],
   "source": [
    "# I really need to get my env var game back together\n",
    "# os.getenv(\"HOME\")"
   ]
  },
  {
   "cell_type": "code",
   "execution_count": 5,
   "metadata": {
    "collapsed": true
   },
   "outputs": [],
   "source": [
    "# function borrowed from Andrew Wheeler and updated for Python 3\n",
    "# by providing a location and local folder pathname, get latest Google Street View images for that location(s)\n",
    "# location can be either a text string (such as Chagrin Falls, OH) or a lat/lng value (40.457375,-80.009353)\n",
    "\n",
    "# size of 480 x 640 comes from the previous project\n",
    "base = \"https://maps.googleapis.com/maps/api/streetview?size=1200x800&location=\"\n",
    "\n",
    "def GetStreet(Add, Heading, SaveLoc):\n",
    "  # fov controls zoom: ~60 degrees requires 6 images per location (60 degrees of separation between each) \n",
    "  MyUrl = base + urllib.parse.quote(Add) + \"&heading=\" + Heading + \"&fov=90\" + key #added url encoding\n",
    "  fi = Add + Heading + \".jpg\"\n",
    "  urllib.request.urlretrieve(MyUrl, os.path.join(SaveLoc,fi))"
   ]
  },
  {
   "cell_type": "code",
   "execution_count": 42,
   "metadata": {
    "collapsed": true
   },
   "outputs": [],
   "source": [
    "# set of seven addresses in Detroid for first test\n",
    "Test1 = [\"457 West Robinwood Street, Detroit, Michigan 48203\",\n",
    "         \"1520 West Philadelphia, Detroit, Michigan 48206\",\n",
    "         \"2292 Grand, Detroit, Michigan 48238\",\n",
    "         \"15414 Wabash Street, Detroit, Michigan 48238\",\n",
    "         \"15867 Log Cabin, Detroit, Michigan 48238\",\n",
    "         \"3317 Cody Street, Detroit, Michigan 48212\",\n",
    "         \"14214 Arlington Street, Detroit, Michigan 48212\"]\n",
    "\n",
    "# two sets of coordinates for second test\n",
    "Test2 = [\"40.69258481000003, -73.90749453199999\", \"40.65169788700007, -73.93155231299994\"]\n",
    "\n",
    "# addresses for those same locations in second test\n",
    "Test3 = [\"804 KNICKERBOCKER AVENUE, BROOKLYN, New York 11207\",\n",
    "        \"4823 CHURCH AVENUE, BROOKLYN, New York 11203\"]"
   ]
  },
  {
   "cell_type": "code",
   "execution_count": 28,
   "metadata": {
    "collapsed": true
   },
   "outputs": [],
   "source": [
    "# loop through the seven test addresses and store them locally\n",
    "# we want 4 images: at 0, 90, 180, and 270 (0 = 360)\n",
    "\n",
    "for i in Test2:\n",
    "    GetStreet(Add=i, Heading='0', SaveLoc=myloc)\n",
    "    GetStreet(Add=i, Heading='90', SaveLoc=myloc)\n",
    "    GetStreet(Add=i, Heading='180', SaveLoc=myloc)\n",
    "    GetStreet(Add=i, Heading='270', SaveLoc=myloc)"
   ]
  },
  {
   "cell_type": "markdown",
   "metadata": {},
   "source": [
    "So the above helped me grab an image for each cardinal direction at a discrete location. \n",
    "  \n",
    "With FOV at 90, however, the images are tiny.  \n",
    "  \n",
    "Let's compare to the single image we get for the addresses at those locations."
   ]
  },
  {
   "cell_type": "code",
   "execution_count": 6,
   "metadata": {
    "collapsed": true
   },
   "outputs": [],
   "source": [
    "# define new function with defaults for heading and fov\n",
    "\n",
    "def GetAddDisplay(Add, SaveLoc): \n",
    "  MyUrl = base + urllib.parse.quote(Add) + key\n",
    "  fi = Add + \"Add\" + \".jpg\"\n",
    "  urllib.request.urlretrieve(MyUrl, os.path.join(SaveLoc,fi))"
   ]
  },
  {
   "cell_type": "code",
   "execution_count": 45,
   "metadata": {
    "collapsed": true
   },
   "outputs": [],
   "source": [
    "# run the slightly tweaked function on same two coordinate locations, but using addresses\n",
    "\n",
    "for i in Test3:\n",
    "    GetAddDisplay(Add=i, SaveLoc=myloc) "
   ]
  },
  {
   "cell_type": "markdown",
   "metadata": {
    "collapsed": true
   },
   "source": [
    "Addresses appear to capture the entire storefronts for the locations I've tested so far.  \n",
    "  \n",
    "Let's try a corner now."
   ]
  },
  {
   "cell_type": "code",
   "execution_count": 47,
   "metadata": {
    "collapsed": true
   },
   "outputs": [],
   "source": [
    "# 909 Fulton Street in BK (11238) is a cornerstore deli\n",
    "GetAddDisplay(Add='909 Fulton Street, Brooklyn, New York 11238', SaveLoc=myloc)"
   ]
  },
  {
   "cell_type": "markdown",
   "metadata": {},
   "source": [
    "No bueno! The address method completely missed a whole side of the retailer.  \n",
    "  \n",
    "Let's see what the default for the coordinates version is:"
   ]
  },
  {
   "cell_type": "code",
   "execution_count": 54,
   "metadata": {
    "collapsed": true
   },
   "outputs": [],
   "source": [
    "# Coordinates for 909 Fulton Street are (40.683473, -73.966846)\n",
    "\n",
    "for i in range(4):\n",
    "    heading = str(i*90)\n",
    "    GetStreet(Add='40.683473, -73.966846', Heading=heading,SaveLoc=myloc)"
   ]
  },
  {
   "cell_type": "markdown",
   "metadata": {},
   "source": [
    "By taking 4 images (one in each cardinal direction) for the single set of coordinates, we got the head on view of the store from the street that the address is listed for, and a partial but occluded view of the other side.  \n",
    "  \n",
    "The only way to get a good view of both sides might be to use two separate addresses."
   ]
  },
  {
   "cell_type": "code",
   "execution_count": 56,
   "metadata": {
    "collapsed": true
   },
   "outputs": [],
   "source": [
    "# According to Google Maps, 490 Clinton Avenue is the address on the other side of the store\n",
    "\n",
    "GetAddDisplay(Add='909 Fulton Street, Brooklyn, New York 11238', SaveLoc=myloc)\n",
    "GetAddDisplay(Add='493 Clinton Avenue, Brooklyn, New York 11238', SaveLoc=myloc)"
   ]
  },
  {
   "cell_type": "code",
   "execution_count": 9,
   "metadata": {
    "collapsed": true
   },
   "outputs": [],
   "source": [
    "for i in range(4):\n",
    "    heading = str(i*90)\n",
    "    GetStreet(Add='754 Greenwich Street, New York, New York 10014', Heading=heading, SaveLoc=myloc)"
   ]
  },
  {
   "cell_type": "code",
   "execution_count": null,
   "metadata": {
    "collapsed": true
   },
   "outputs": [],
   "source": []
  }
 ],
 "metadata": {
  "kernelspec": {
   "display_name": "Python 3",
   "language": "python",
   "name": "python3"
  },
  "language_info": {
   "codemirror_mode": {
    "name": "ipython",
    "version": 3
   },
   "file_extension": ".py",
   "mimetype": "text/x-python",
   "name": "python",
   "nbconvert_exporter": "python",
   "pygments_lexer": "ipython3",
   "version": "3.6.3"
  }
 },
 "nbformat": 4,
 "nbformat_minor": 2
}
